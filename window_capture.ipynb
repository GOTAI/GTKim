{
 "cells": [
  {
   "cell_type": "code",
   "execution_count": 1,
   "metadata": {},
   "outputs": [],
   "source": [
    "# %%%%%%%%%%%%%%%%%%%%%%%%%%%%%%%%%%%%%%%%%%%%%%%%%%%%%%%%%%%%%%% # \n",
    "#                                                                 #\n",
    "# Monitor Capture                                                 #\n",
    "# ref : http://helloworld7777.blogspot.com/2016/10/blog-post.html #\n",
    "# Author : Gwan-Tae Kim                                           #\n",
    "# Last Updated : 2018-07-26                                       #\n",
    "#                                                                 #\n",
    "# %%%%%%%%%%%%%%%%%%%%%%%%%%%%%%%%%%%%%%%%%%%%%%%%%%%%%%%%%%%%%%% #\n",
    "\n",
    "import time\n",
    "import pyscreenshot as ImageGrab\n",
    "import wx\n",
    "from PIL import Image\n"
   ]
  },
  {
   "cell_type": "code",
   "execution_count": 3,
   "metadata": {},
   "outputs": [
    {
     "name": "stderr",
     "output_type": "stream",
     "text": [
      "c:\\users\\gtkim\\appdata\\local\\programs\\python\\python36\\lib\\site-packages\\ipykernel_launcher.py:14: wxPyDeprecationWarning: Call to deprecated item EmptyBitmap. Use :class:`wx.Bitmap` instead\n",
      "  \n"
     ]
    }
   ],
   "source": [
    "def main():\n",
    "    count = 10\n",
    "    start = time.time()\n",
    "    for i in range(count):\n",
    "        im = ImageGrab.grab(bbox=(0,0,100,100))\n",
    "        im.save('ImageGrab.png')\n",
    "        \n",
    "    time.time() - start\n",
    "    \n",
    "    start = time.time()\n",
    "    app = wx.App()\n",
    "    screen = wx.ScreenDC()\n",
    "    for i in range(count):\n",
    "        bmp = wx.EmptyBitmap(100, 100)\n",
    "        mem = wx.MemoryDC(bmp)\n",
    "        mem.Blit(0, 0, 100, 100, screen, 0, 0)\n",
    "        del mem\n",
    "        bmp.SaveFile('wx.bmp', wx.BITMAP_TYPE_BMP)\n",
    "    time.time() - start\n",
    "if __name__ == '__main__':\n",
    "    main()"
   ]
  },
  {
   "cell_type": "code",
   "execution_count": null,
   "metadata": {},
   "outputs": [],
   "source": []
  }
 ],
 "metadata": {
  "kernelspec": {
   "display_name": "Python 3",
   "language": "python",
   "name": "python3"
  },
  "language_info": {
   "codemirror_mode": {
    "name": "ipython",
    "version": 3
   },
   "file_extension": ".py",
   "mimetype": "text/x-python",
   "name": "python",
   "nbconvert_exporter": "python",
   "pygments_lexer": "ipython3",
   "version": "3.6.2"
  }
 },
 "nbformat": 4,
 "nbformat_minor": 2
}
